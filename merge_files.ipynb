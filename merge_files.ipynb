{
 "cells": [
  {
   "cell_type": "code",
   "execution_count": 1,
   "id": "afcc6542",
   "metadata": {},
   "outputs": [],
   "source": [
    "import os\n",
    "import calendar\n",
    "import pandas as pd\n",
    "import threading\n",
    "from tqdm.notebook import tqdm"
   ]
  },
  {
   "cell_type": "code",
   "execution_count": 2,
   "id": "f6b3f7dc",
   "metadata": {},
   "outputs": [],
   "source": [
    "base = \"dataset_customs\""
   ]
  },
  {
   "cell_type": "code",
   "execution_count": 3,
   "id": "3660bbe9",
   "metadata": {},
   "outputs": [
    {
     "data": {
      "text/plain": [
       "['dataset_customs/export', 'dataset_customs/import']"
      ]
     },
     "execution_count": 3,
     "metadata": {},
     "output_type": "execute_result"
    }
   ],
   "source": [
    "im_ex_dir = [os.path.join(base,x) for x in os.listdir(base) if os.path.isdir(os.path.join(base,x))]\n",
    "im_ex_dir"
   ]
  },
  {
   "cell_type": "code",
   "execution_count": 4,
   "id": "4031cd43",
   "metadata": {},
   "outputs": [],
   "source": [
    "def group_file_names(file_paths):\n",
    "    groups = {}\n",
    "    file_names = [(fp.split('/')[-1].split('-')[0], fp) for fp in file_paths]\n",
    "    for year, f_path in file_names:\n",
    "        if year in groups:\n",
    "            groups[year].append(f_path)\n",
    "        else:\n",
    "            groups[year] = [f_path]\n",
    "    for elm in groups:\n",
    "        groups[elm].sort()\n",
    "    sort_groups = sorted(groups.items(), key=lambda key: key[0])\n",
    "    return {elm[0]:elm[1] for elm in sort_groups}"
   ]
  },
  {
   "cell_type": "code",
   "execution_count": 5,
   "id": "11cf935a",
   "metadata": {},
   "outputs": [],
   "source": [
    "months = [elm for elm in calendar.month_abbr]\n",
    "months_dict = { elm:months.index(elm) for elm in months}\n",
    "months_dict['Sept'] = 9\n",
    "def month2int(month):\n",
    "    return months_dict[month]\n",
    "\n",
    "def convert2com(name):\n",
    "    month_name, year = name.replace('(',' ').replace(')','').split(' ')[-2:]\n",
    "    month = month2int(month_name)\n",
    "    return \"{}-{:02d}\".format(year, month)"
   ]
  },
  {
   "cell_type": "code",
   "execution_count": 6,
   "id": "1c66bd86",
   "metadata": {},
   "outputs": [],
   "source": [
    "base_out = \"output\"\n",
    "if not os.path.exists(base_out):\n",
    "    os.mkdir(base_out)"
   ]
  },
  {
   "cell_type": "markdown",
   "id": "2f0dd796",
   "metadata": {},
   "source": [
    "# Parallel"
   ]
  },
  {
   "cell_type": "code",
   "execution_count": 7,
   "id": "d159a006",
   "metadata": {},
   "outputs": [],
   "source": [
    "# def merge_files(key, data):\n",
    "#     sub_outpath = os.path.join(base_out, key)\n",
    "#     if not os.path.exists(sub_outpath):\n",
    "#         os.makedirs(sub_outpath)\n",
    "#     merge_df_name = \"{}.csv\".format(data[0].split('/')[-2])\n",
    "#     df = None\n",
    "#     for index, f_path in enumerate(data):\n",
    "#         df_tmp = pd.read_csv(f_path)\n",
    "#         columns_acc = list(df_tmp.columns)[1:3]\n",
    "#         df_tmp = df_tmp[columns_acc]\n",
    "#         df_tmp = df_tmp.rename(columns={columns_acc[-1]:convert2com(columns_acc[-1])})\n",
    "#         if index==0:\n",
    "#             df = df_tmp\n",
    "#         else:\n",
    "#             df = pd.merge(df, df_tmp, how='outer')\n",
    "#     df.to_csv(os.path.join(sub_outpath, merge_df_name), index=False)"
   ]
  },
  {
   "cell_type": "code",
   "execution_count": 8,
   "id": "8d524b31",
   "metadata": {
    "scrolled": true
   },
   "outputs": [],
   "source": [
    "# t = []\n",
    "# for data_type in im_ex_dir:\n",
    "#     category_paths = [os.path.join(data_type, x) for x in os.listdir(data_type) if os.path.isdir(os.path.join(data_type, x))]\n",
    "#     category_paths.sort()\n",
    "#     for category_path in tqdm(category_paths):\n",
    "#         files_path = [os.path.join(category_path, x) for x in os.listdir(category_path) if os.path.isfile(os.path.join(category_path, x))]\n",
    "#         group_file = group_file_names(files_path)\n",
    "#         for group in group_file:\n",
    "#             x = threading.Thread(target=merge_files, args=(group, group_file[group]))\n",
    "#             t.append(x)\n",
    "#             x.start()\n",
    "#         for thread in t:\n",
    "#             thread.join()"
   ]
  },
  {
   "cell_type": "code",
   "execution_count": null,
   "id": "61ecf3ca",
   "metadata": {},
   "outputs": [],
   "source": []
  },
  {
   "cell_type": "code",
   "execution_count": 9,
   "id": "4ae5f77d",
   "metadata": {},
   "outputs": [
    {
     "data": {
      "application/vnd.jupyter.widget-view+json": {
       "model_id": "3ff12ccd16a046b68efcaeb2491274f6",
       "version_major": 2,
       "version_minor": 0
      },
      "text/plain": [
       "  0%|          | 0/1254 [00:00<?, ?it/s]"
      ]
     },
     "metadata": {},
     "output_type": "display_data"
    },
    {
     "data": {
      "application/vnd.jupyter.widget-view+json": {
       "model_id": "5fdd461e714642d3bb3e4fcd57fff192",
       "version_major": 2,
       "version_minor": 0
      },
      "text/plain": [
       "  0%|          | 0/1253 [00:00<?, ?it/s]"
      ]
     },
     "metadata": {},
     "output_type": "display_data"
    }
   ],
   "source": [
    "'''single thread'''\n",
    "for data_type in im_ex_dir:\n",
    "    category_paths = [os.path.join(data_type, x) for x in os.listdir(data_type) if os.path.isdir(os.path.join(data_type, x))]\n",
    "    category_paths.sort()\n",
    "    for category_path in tqdm(category_paths):\n",
    "        files_path = [os.path.join(category_path, x) for x in os.listdir(category_path) if os.path.isfile(os.path.join(category_path, x))]\n",
    "        group_file = group_file_names(files_path)\n",
    "        for key, data in group_file.items():\n",
    "            sub_outpath = os.path.join(base_out, key)\n",
    "            if not os.path.exists(sub_outpath):\n",
    "                os.makedirs(sub_outpath)\n",
    "            merge_df_name = \"{}.csv\".format(data[0].split('/')[-2])\n",
    "            df = None\n",
    "            for index, f_path in enumerate(data):\n",
    "                df_tmp = pd.read_csv(f_path)\n",
    "                columns_acc = list(df_tmp.columns)[1:3]\n",
    "                df_tmp = df_tmp[columns_acc]\n",
    "                df_tmp = df_tmp.rename(columns={columns_acc[-1]:convert2com(columns_acc[-1])})\n",
    "                if index==0:\n",
    "                    df = df_tmp\n",
    "                else:\n",
    "                    df = pd.merge(df, df_tmp, how='outer')\n",
    "            df.to_csv(os.path.join(sub_outpath, merge_df_name), index=False)"
   ]
  },
  {
   "cell_type": "code",
   "execution_count": null,
   "id": "d57ae287",
   "metadata": {},
   "outputs": [],
   "source": []
  }
 ],
 "metadata": {
  "kernelspec": {
   "display_name": "Python 3",
   "language": "python",
   "name": "python3"
  },
  "language_info": {
   "codemirror_mode": {
    "name": "ipython",
    "version": 3
   },
   "file_extension": ".py",
   "mimetype": "text/x-python",
   "name": "python",
   "nbconvert_exporter": "python",
   "pygments_lexer": "ipython3",
   "version": "3.8.5"
  }
 },
 "nbformat": 4,
 "nbformat_minor": 5
}
