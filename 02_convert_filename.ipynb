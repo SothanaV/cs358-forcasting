{
 "cells": [
  {
   "cell_type": "code",
   "execution_count": 1,
   "id": "5fb0d123",
   "metadata": {},
   "outputs": [],
   "source": [
    "import os\n",
    "import calendar"
   ]
  },
  {
   "cell_type": "code",
   "execution_count": 2,
   "id": "f209954e",
   "metadata": {},
   "outputs": [],
   "source": [
    "base = \"bucket/dataset_customs\""
   ]
  },
  {
   "cell_type": "code",
   "execution_count": 3,
   "id": "678eee2f",
   "metadata": {},
   "outputs": [
    {
     "data": {
      "text/plain": [
       "['bucket/dataset_customs/export', 'bucket/dataset_customs/import']"
      ]
     },
     "execution_count": 3,
     "metadata": {},
     "output_type": "execute_result"
    }
   ],
   "source": [
    "im_ex_dir = [os.path.join(base,x) for x in os.listdir(base) if os.path.isdir(os.path.join(base,x))]\n",
    "im_ex_dir"
   ]
  },
  {
   "cell_type": "code",
   "execution_count": 4,
   "id": "b92814f6",
   "metadata": {},
   "outputs": [],
   "source": [
    "months = [elm for elm in calendar.month_name]\n",
    "def month2int(month):\n",
    "    return months.index(month)\n",
    "\n",
    "def convert2com(f_name):\n",
    "    month_name, year = f_name.split(' ')[-2:]\n",
    "    year = year.replace('.csv','')\n",
    "    month = month2int(month_name)\n",
    "    return \"{}-{:02d}.csv\".format(year, month)"
   ]
  },
  {
   "cell_type": "code",
   "execution_count": null,
   "id": "0e67d6c8",
   "metadata": {},
   "outputs": [],
   "source": [
    "for data_type in im_ex_dir:\n",
    "    category_paths = [os.path.join(data_type, x) for x in os.listdir(data_type) if os.path.isdir(os.path.join(data_type, x))]\n",
    "    category_paths.sort()\n",
    "    for category_path in category_paths:\n",
    "        files_path = [os.path.join(category_path, x) for x in os.listdir(category_path) if os.path.isfile(os.path.join(category_path, x))]\n",
    "        for file_path in files_path:\n",
    "            f_paths = file_path.split('/')\n",
    "            new_f_name = convert2com(f_paths[-1])\n",
    "            f_paths[-1] = new_f_name\n",
    "            file_path_new = \"/\".join(f_paths)\n",
    "            os.rename(file_path, file_path_new)"
   ]
  },
  {
   "cell_type": "code",
   "execution_count": null,
   "id": "9f2c2bf4",
   "metadata": {},
   "outputs": [],
   "source": []
  }
 ],
 "metadata": {
  "environment": {
   "name": "tf2-gpu.2-3.m69",
   "type": "gcloud",
   "uri": "gcr.io/deeplearning-platform-release/tf2-gpu.2-3:m69"
  },
  "kernelspec": {
   "display_name": "Python 3",
   "language": "python",
   "name": "python3"
  },
  "language_info": {
   "codemirror_mode": {
    "name": "ipython",
    "version": 3
   },
   "file_extension": ".py",
   "mimetype": "text/x-python",
   "name": "python",
   "nbconvert_exporter": "python",
   "pygments_lexer": "ipython3",
   "version": "3.7.10"
  }
 },
 "nbformat": 4,
 "nbformat_minor": 5
}
