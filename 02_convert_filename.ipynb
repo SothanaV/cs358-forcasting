{
 "cells": [
  {
   "cell_type": "code",
   "execution_count": 1,
   "id": "8d811c56",
   "metadata": {},
   "outputs": [],
   "source": [
    "import os\n",
    "import shutil\n",
    "import calendar\n",
    "import pandas as pd"
   ]
  },
  {
   "cell_type": "code",
   "execution_count": 2,
   "id": "944cbee4",
   "metadata": {},
   "outputs": [],
   "source": [
    "base = \"bucket/original_dataset_customs\"\n",
    "out_dir = \"dataset_customs\""
   ]
  },
  {
   "cell_type": "code",
   "execution_count": 3,
   "id": "61590c68",
   "metadata": {},
   "outputs": [
    {
     "data": {
      "text/plain": [
       "['bucket/original_dataset_customs/export',\n",
       " 'bucket/original_dataset_customs/import']"
      ]
     },
     "execution_count": 3,
     "metadata": {},
     "output_type": "execute_result"
    }
   ],
   "source": [
    "im_ex_dir = [os.path.join(base,x) for x in os.listdir(base) if os.path.isdir(os.path.join(base,x))]\n",
    "im_ex_dir"
   ]
  },
  {
   "cell_type": "markdown",
   "id": "d722f9fa",
   "metadata": {},
   "source": [
    "# Count files"
   ]
  },
  {
   "cell_type": "code",
   "execution_count": 4,
   "id": "1db5fe99",
   "metadata": {},
   "outputs": [
    {
     "data": {
      "text/html": [
       "<div>\n",
       "<style scoped>\n",
       "    .dataframe tbody tr th:only-of-type {\n",
       "        vertical-align: middle;\n",
       "    }\n",
       "\n",
       "    .dataframe tbody tr th {\n",
       "        vertical-align: top;\n",
       "    }\n",
       "\n",
       "    .dataframe thead th {\n",
       "        text-align: right;\n",
       "    }\n",
       "</style>\n",
       "<table border=\"1\" class=\"dataframe\">\n",
       "  <thead>\n",
       "    <tr style=\"text-align: right;\">\n",
       "      <th></th>\n",
       "      <th>type</th>\n",
       "      <th>hs_code</th>\n",
       "      <th>num_file</th>\n",
       "    </tr>\n",
       "  </thead>\n",
       "  <tbody>\n",
       "    <tr>\n",
       "      <th>0</th>\n",
       "      <td>export</td>\n",
       "      <td>4204</td>\n",
       "      <td>252</td>\n",
       "    </tr>\n",
       "    <tr>\n",
       "      <th>1</th>\n",
       "      <td>export</td>\n",
       "      <td>8453</td>\n",
       "      <td>252</td>\n",
       "    </tr>\n",
       "    <tr>\n",
       "      <th>2</th>\n",
       "      <td>export</td>\n",
       "      <td>8462</td>\n",
       "      <td>252</td>\n",
       "    </tr>\n",
       "    <tr>\n",
       "      <th>3</th>\n",
       "      <td>export</td>\n",
       "      <td>8001</td>\n",
       "      <td>252</td>\n",
       "    </tr>\n",
       "    <tr>\n",
       "      <th>4</th>\n",
       "      <td>export</td>\n",
       "      <td>2917</td>\n",
       "      <td>252</td>\n",
       "    </tr>\n",
       "    <tr>\n",
       "      <th>...</th>\n",
       "      <td>...</td>\n",
       "      <td>...</td>\n",
       "      <td>...</td>\n",
       "    </tr>\n",
       "    <tr>\n",
       "      <th>2502</th>\n",
       "      <td>import</td>\n",
       "      <td>3817</td>\n",
       "      <td>252</td>\n",
       "    </tr>\n",
       "    <tr>\n",
       "      <th>2503</th>\n",
       "      <td>import</td>\n",
       "      <td>1806</td>\n",
       "      <td>252</td>\n",
       "    </tr>\n",
       "    <tr>\n",
       "      <th>2504</th>\n",
       "      <td>import</td>\n",
       "      <td>4602</td>\n",
       "      <td>252</td>\n",
       "    </tr>\n",
       "    <tr>\n",
       "      <th>2505</th>\n",
       "      <td>import</td>\n",
       "      <td>8473</td>\n",
       "      <td>252</td>\n",
       "    </tr>\n",
       "    <tr>\n",
       "      <th>2506</th>\n",
       "      <td>import</td>\n",
       "      <td>2928</td>\n",
       "      <td>252</td>\n",
       "    </tr>\n",
       "  </tbody>\n",
       "</table>\n",
       "<p>2507 rows × 3 columns</p>\n",
       "</div>"
      ],
      "text/plain": [
       "        type hs_code  num_file\n",
       "0     export    4204       252\n",
       "1     export    8453       252\n",
       "2     export    8462       252\n",
       "3     export    8001       252\n",
       "4     export    2917       252\n",
       "...      ...     ...       ...\n",
       "2502  import    3817       252\n",
       "2503  import    1806       252\n",
       "2504  import    4602       252\n",
       "2505  import    8473       252\n",
       "2506  import    2928       252\n",
       "\n",
       "[2507 rows x 3 columns]"
      ]
     },
     "execution_count": 4,
     "metadata": {},
     "output_type": "execute_result"
    }
   ],
   "source": [
    "datas = []\n",
    "for category in os.listdir(base):\n",
    "    path1 = os.path.join(base, category)\n",
    "    if os.path.isdir(path1):\n",
    "        for hs_code in os.listdir(path1):\n",
    "            path2 = os.path.join(path1, hs_code)\n",
    "            if os.path.isdir(path2):\n",
    "                datas.append({\n",
    "                    'type':category,\n",
    "                    'hs_code':hs_code,\n",
    "                    'num_file': len(os.listdir(path2))\n",
    "                })\n",
    "df = pd.DataFrame(datas)\n",
    "df"
   ]
  },
  {
   "cell_type": "code",
   "execution_count": 5,
   "id": "1136bda9",
   "metadata": {},
   "outputs": [
    {
     "name": "stdout",
     "output_type": "stream",
     "text": [
      "Total files : 631,733\n"
     ]
    },
    {
     "data": {
      "text/html": [
       "<div>\n",
       "<style scoped>\n",
       "    .dataframe tbody tr th:only-of-type {\n",
       "        vertical-align: middle;\n",
       "    }\n",
       "\n",
       "    .dataframe tbody tr th {\n",
       "        vertical-align: top;\n",
       "    }\n",
       "\n",
       "    .dataframe thead th {\n",
       "        text-align: right;\n",
       "    }\n",
       "</style>\n",
       "<table border=\"1\" class=\"dataframe\">\n",
       "  <thead>\n",
       "    <tr style=\"text-align: right;\">\n",
       "      <th></th>\n",
       "      <th></th>\n",
       "      <th>num_file</th>\n",
       "    </tr>\n",
       "    <tr>\n",
       "      <th>type</th>\n",
       "      <th>hs_code</th>\n",
       "      <th></th>\n",
       "    </tr>\n",
       "  </thead>\n",
       "  <tbody>\n",
       "    <tr>\n",
       "      <th rowspan=\"5\" valign=\"top\">export</th>\n",
       "      <th>0101</th>\n",
       "      <td>252</td>\n",
       "    </tr>\n",
       "    <tr>\n",
       "      <th>0102</th>\n",
       "      <td>252</td>\n",
       "    </tr>\n",
       "    <tr>\n",
       "      <th>0103</th>\n",
       "      <td>252</td>\n",
       "    </tr>\n",
       "    <tr>\n",
       "      <th>0104</th>\n",
       "      <td>252</td>\n",
       "    </tr>\n",
       "    <tr>\n",
       "      <th>0105</th>\n",
       "      <td>252</td>\n",
       "    </tr>\n",
       "    <tr>\n",
       "      <th>...</th>\n",
       "      <th>...</th>\n",
       "      <td>...</td>\n",
       "    </tr>\n",
       "    <tr>\n",
       "      <th rowspan=\"5\" valign=\"top\">import</th>\n",
       "      <th>9702</th>\n",
       "      <td>252</td>\n",
       "    </tr>\n",
       "    <tr>\n",
       "      <th>9703</th>\n",
       "      <td>252</td>\n",
       "    </tr>\n",
       "    <tr>\n",
       "      <th>9704</th>\n",
       "      <td>252</td>\n",
       "    </tr>\n",
       "    <tr>\n",
       "      <th>9705</th>\n",
       "      <td>252</td>\n",
       "    </tr>\n",
       "    <tr>\n",
       "      <th>9706</th>\n",
       "      <td>252</td>\n",
       "    </tr>\n",
       "  </tbody>\n",
       "</table>\n",
       "<p>2507 rows × 1 columns</p>\n",
       "</div>"
      ],
      "text/plain": [
       "                num_file\n",
       "type   hs_code          \n",
       "export 0101          252\n",
       "       0102          252\n",
       "       0103          252\n",
       "       0104          252\n",
       "       0105          252\n",
       "...                  ...\n",
       "import 9702          252\n",
       "       9703          252\n",
       "       9704          252\n",
       "       9705          252\n",
       "       9706          252\n",
       "\n",
       "[2507 rows x 1 columns]"
      ]
     },
     "execution_count": 5,
     "metadata": {},
     "output_type": "execute_result"
    }
   ],
   "source": [
    "df_pivot = pd.pivot_table(df, columns=['type','hs_code']).T\n",
    "print(\"Total files : {:,}\".format(df_pivot['num_file'].sum()))\n",
    "df_pivot"
   ]
  },
  {
   "cell_type": "markdown",
   "id": "fb89ddc2",
   "metadata": {},
   "source": [
    "# Define function for convert file name"
   ]
  },
  {
   "cell_type": "code",
   "execution_count": 6,
   "id": "0d334ffb",
   "metadata": {},
   "outputs": [],
   "source": [
    "months = [elm for elm in calendar.month_name]\n",
    "def month2int(month):\n",
    "    return months.index(month)\n",
    "\n",
    "def convert2com(f_name):\n",
    "    month_name, year = f_name.split(' ')[-2:]\n",
    "    year = year.replace('.csv','')\n",
    "    month = month2int(month_name)\n",
    "    return \"{}-{:02d}.csv\".format(year, month)"
   ]
  },
  {
   "cell_type": "markdown",
   "id": "71690e5b",
   "metadata": {},
   "source": [
    "# Main Loop : Convert file names"
   ]
  },
  {
   "cell_type": "code",
   "execution_count": 8,
   "id": "d8e5da5b",
   "metadata": {},
   "outputs": [],
   "source": [
    "for data_type in im_ex_dir:\n",
    "    category_paths = [os.path.join(data_type, x) for x in os.listdir(data_type) if os.path.isdir(os.path.join(data_type, x))]\n",
    "    category_paths.sort()\n",
    "    for category_path in category_paths:\n",
    "        new_category_path = category_path.split('/')\n",
    "        new_category_path[1] = out_dir\n",
    "        new_category_path = \"/\".join(new_category_path)\n",
    "        if not os.path.exists(new_category_path):\n",
    "            os.makedirs(new_category_path)\n",
    "        files_path = [os.path.join(category_path, x) for x in os.listdir(category_path) if os.path.isfile(os.path.join(category_path, x))]\n",
    "        for file_path in files_path:\n",
    "            f_paths = file_path.split('/')\n",
    "            new_f_name = convert2com(f_paths[-1])\n",
    "            f_paths[-1] = new_f_name\n",
    "            f_paths[1] = out_dir\n",
    "            file_path_new = \"/\".join(f_paths)\n",
    "            shutil.copyfile(file_path, file_path_new)"
   ]
  },
  {
   "cell_type": "code",
   "execution_count": null,
   "id": "2b5631c2",
   "metadata": {},
   "outputs": [],
   "source": []
  }
 ],
 "metadata": {
  "environment": {
   "name": "tf2-gpu.2-3.m69",
   "type": "gcloud",
   "uri": "gcr.io/deeplearning-platform-release/tf2-gpu.2-3:m69"
  },
  "kernelspec": {
   "display_name": "Python 3",
   "language": "python",
   "name": "python3"
  },
  "language_info": {
   "codemirror_mode": {
    "name": "ipython",
    "version": 3
   },
   "file_extension": ".py",
   "mimetype": "text/x-python",
   "name": "python",
   "nbconvert_exporter": "python",
   "pygments_lexer": "ipython3",
   "version": "3.8.5"
  }
 },
 "nbformat": 4,
 "nbformat_minor": 5
}
