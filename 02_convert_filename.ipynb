{
 "cells": [
  {
   "cell_type": "code",
   "execution_count": 1,
   "id": "8d811c56",
   "metadata": {},
   "outputs": [],
   "source": [
    "import os\n",
    "import calendar"
   ]
  },
  {
   "cell_type": "code",
   "execution_count": 2,
   "id": "944cbee4",
   "metadata": {},
   "outputs": [],
   "source": [
    "base = \"bucket/dataset_customs\""
   ]
  },
  {
   "cell_type": "code",
   "execution_count": 3,
   "id": "61590c68",
   "metadata": {},
   "outputs": [
    {
     "data": {
      "text/plain": [
       "['bucket/dataset_customs/export', 'bucket/dataset_customs/import']"
      ]
     },
     "execution_count": 3,
     "metadata": {},
     "output_type": "execute_result"
    }
   ],
   "source": [
    "im_ex_dir = [os.path.join(base,x) for x in os.listdir(base) if os.path.isdir(os.path.join(base,x))]\n",
    "im_ex_dir"
   ]
  },
  {
   "cell_type": "markdown",
   "id": "d722f9fa",
   "metadata": {},
   "source": [
    "# Count files"
   ]
  },
  {
   "cell_type": "code",
   "execution_count": 11,
   "id": "fa77ffab",
   "metadata": {},
   "outputs": [
    {
     "name": "stdout",
     "output_type": "stream",
     "text": [
      "Total files : 631733\n"
     ]
    }
   ],
   "source": [
    "sub_dir_paths = {d:[os.path.join(d, sub_d) for sub_d in os.listdir(d)] for d in im_ex_dir}\n",
    "all_file_paths = []\n",
    "for main_dir, sub_dir_path in sub_dir_paths.items():\n",
    "    for dir_path in sub_dir_path:\n",
    "        if os.path.isdir(dir_path):\n",
    "            all_file_paths += [os.path.join(dir_path, x) for x in os.listdir(dir_path)]\n",
    "print(\"Total files : {}\".format(len(all_file_paths)))"
   ]
  },
  {
   "cell_type": "markdown",
   "id": "fb89ddc2",
   "metadata": {},
   "source": [
    "# defind function for convert file name"
   ]
  },
  {
   "cell_type": "code",
   "execution_count": 4,
   "id": "0d334ffb",
   "metadata": {},
   "outputs": [],
   "source": [
    "months = [elm for elm in calendar.month_name]\n",
    "def month2int(month):\n",
    "    return months.index(month)\n",
    "\n",
    "def convert2com(f_name):\n",
    "    month_name, year = f_name.split(' ')[-2:]\n",
    "    year = year.replace('.csv','')\n",
    "    month = month2int(month_name)\n",
    "    return \"{}-{:02d}.csv\".format(year, month)"
   ]
  },
  {
   "cell_type": "code",
   "execution_count": null,
   "id": "d8e5da5b",
   "metadata": {},
   "outputs": [],
   "source": [
    "for data_type in im_ex_dir:\n",
    "    category_paths = [os.path.join(data_type, x) for x in os.listdir(data_type) if os.path.isdir(os.path.join(data_type, x))]\n",
    "    category_paths.sort()\n",
    "    for category_path in category_paths:\n",
    "        files_path = [os.path.join(category_path, x) for x in os.listdir(category_path) if os.path.isfile(os.path.join(category_path, x))]\n",
    "        for file_path in files_path:\n",
    "            f_paths = file_path.split('/')\n",
    "            new_f_name = convert2com(f_paths[-1])\n",
    "            f_paths[-1] = new_f_name\n",
    "            file_path_new = \"/\".join(f_paths)\n",
    "            os.rename(file_path, file_path_new)"
   ]
  },
  {
   "cell_type": "code",
   "execution_count": null,
   "id": "2b5631c2",
   "metadata": {},
   "outputs": [],
   "source": []
  }
 ],
 "metadata": {
  "environment": {
   "name": "tf2-gpu.2-3.m69",
   "type": "gcloud",
   "uri": "gcr.io/deeplearning-platform-release/tf2-gpu.2-3:m69"
  },
  "kernelspec": {
   "display_name": "Python 3",
   "language": "python",
   "name": "python3"
  },
  "language_info": {
   "codemirror_mode": {
    "name": "ipython",
    "version": 3
   },
   "file_extension": ".py",
   "mimetype": "text/x-python",
   "name": "python",
   "nbconvert_exporter": "python",
   "pygments_lexer": "ipython3",
   "version": "3.7.10"
  }
 },
 "nbformat": 4,
 "nbformat_minor": 5
}
