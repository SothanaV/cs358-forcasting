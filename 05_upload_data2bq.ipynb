{
 "cells": [
  {
   "cell_type": "code",
   "execution_count": 1,
   "id": "6938128e",
   "metadata": {},
   "outputs": [],
   "source": [
    "import os\n",
    "import pandas as pd\n",
    "import math\n",
    "import threading\n",
    "from google.cloud import bigquery\n",
    "from tqdm.notebook import tqdm"
   ]
  },
  {
   "cell_type": "code",
   "execution_count": 2,
   "id": "b71811c0",
   "metadata": {},
   "outputs": [],
   "source": [
    "PROJECT_ID = \"integrated-bit-312717\"\n",
    "DATASET_NAME = 'customs'\n",
    "TABLE_NAME = \"customs_test3\"\n",
    "\n",
    "table_id = \"{project_id}.{dataset_name}.{table_name}\".format(project_id=PROJECT_ID, dataset_name=DATASET_NAME, \n",
    "            table_name=TABLE_NAME)"
   ]
  },
  {
   "cell_type": "code",
   "execution_count": 3,
   "id": "6db0b7b9",
   "metadata": {},
   "outputs": [],
   "source": [
    "client = bigquery.Client(project=PROJECT_ID, location=\"US\")"
   ]
  },
  {
   "cell_type": "code",
   "execution_count": 4,
   "id": "ca9522a9",
   "metadata": {},
   "outputs": [
    {
     "name": "stdout",
     "output_type": "stream",
     "text": [
      "409 POST https://bigquery.googleapis.com/bigquery/v2/projects/integrated-bit-312717/datasets?prettyPrint=false: Already Exists: Dataset integrated-bit-312717:customs\n"
     ]
    }
   ],
   "source": [
    "try:\n",
    "    client.create_dataset('{dataset_name}'.format(dataset_name=DATASET_NAME))\n",
    "except Exception as e:\n",
    "    print(e)\n",
    "else:\n",
    "    print('Dataset {dataset_name} created'.format(dataset_name=DATASET_NAME))"
   ]
  },
  {
   "cell_type": "code",
   "execution_count": 5,
   "id": "4ef6c212",
   "metadata": {},
   "outputs": [],
   "source": [
    "schema = [\n",
    "    bigquery.SchemaField(\"country\", \"STRING\"),\n",
    "    bigquery.SchemaField(\"hs_code\", \"STRING\"),\n",
    "    bigquery.SchemaField(\"type\", \"STRING\"),\n",
    "    bigquery.SchemaField(\"year_month\", \"STRING\"),\n",
    "    bigquery.SchemaField(\"value\", \"INTEGER\")\n",
    "]"
   ]
  },
  {
   "cell_type": "code",
   "execution_count": 6,
   "id": "f7bbbc13",
   "metadata": {},
   "outputs": [],
   "source": [
    "table = bigquery.Table(table_id, schema=schema)"
   ]
  },
  {
   "cell_type": "code",
   "execution_count": 7,
   "id": "f9763abe",
   "metadata": {},
   "outputs": [
    {
     "name": "stdout",
     "output_type": "stream",
     "text": [
      "table created\n"
     ]
    }
   ],
   "source": [
    "try:\n",
    "    client.create_table(table)\n",
    "except Exception as e:\n",
    "    print(e)\n",
    "else:\n",
    "    print(\"table created\")"
   ]
  },
  {
   "cell_type": "code",
   "execution_count": null,
   "id": "8868ed28",
   "metadata": {},
   "outputs": [],
   "source": []
  },
  {
   "cell_type": "code",
   "execution_count": 8,
   "id": "44679430",
   "metadata": {},
   "outputs": [],
   "source": [
    "base = \"bucket/merge_dataset_customs\""
   ]
  },
  {
   "cell_type": "code",
   "execution_count": 9,
   "id": "ea93153c",
   "metadata": {},
   "outputs": [
    {
     "data": {
      "text/plain": [
       "['bucket/merge_dataset_customs/export/2001',\n",
       " 'bucket/merge_dataset_customs/export/2002',\n",
       " 'bucket/merge_dataset_customs/export/2003',\n",
       " 'bucket/merge_dataset_customs/export/2004',\n",
       " 'bucket/merge_dataset_customs/export/2005',\n",
       " 'bucket/merge_dataset_customs/export/2006',\n",
       " 'bucket/merge_dataset_customs/export/2007',\n",
       " 'bucket/merge_dataset_customs/export/2008',\n",
       " 'bucket/merge_dataset_customs/export/2009',\n",
       " 'bucket/merge_dataset_customs/export/2010',\n",
       " 'bucket/merge_dataset_customs/export/2011',\n",
       " 'bucket/merge_dataset_customs/export/2012',\n",
       " 'bucket/merge_dataset_customs/export/2013',\n",
       " 'bucket/merge_dataset_customs/export/2014',\n",
       " 'bucket/merge_dataset_customs/export/2015',\n",
       " 'bucket/merge_dataset_customs/export/2016',\n",
       " 'bucket/merge_dataset_customs/export/2017',\n",
       " 'bucket/merge_dataset_customs/export/2018',\n",
       " 'bucket/merge_dataset_customs/export/2019',\n",
       " 'bucket/merge_dataset_customs/export/2020',\n",
       " 'bucket/merge_dataset_customs/export/2021',\n",
       " 'bucket/merge_dataset_customs/import/2001',\n",
       " 'bucket/merge_dataset_customs/import/2002',\n",
       " 'bucket/merge_dataset_customs/import/2003',\n",
       " 'bucket/merge_dataset_customs/import/2004',\n",
       " 'bucket/merge_dataset_customs/import/2005',\n",
       " 'bucket/merge_dataset_customs/import/2006',\n",
       " 'bucket/merge_dataset_customs/import/2007',\n",
       " 'bucket/merge_dataset_customs/import/2008',\n",
       " 'bucket/merge_dataset_customs/import/2009',\n",
       " 'bucket/merge_dataset_customs/import/2010',\n",
       " 'bucket/merge_dataset_customs/import/2011',\n",
       " 'bucket/merge_dataset_customs/import/2012',\n",
       " 'bucket/merge_dataset_customs/import/2013',\n",
       " 'bucket/merge_dataset_customs/import/2014',\n",
       " 'bucket/merge_dataset_customs/import/2015',\n",
       " 'bucket/merge_dataset_customs/import/2016',\n",
       " 'bucket/merge_dataset_customs/import/2017',\n",
       " 'bucket/merge_dataset_customs/import/2018',\n",
       " 'bucket/merge_dataset_customs/import/2019',\n",
       " 'bucket/merge_dataset_customs/import/2020',\n",
       " 'bucket/merge_dataset_customs/import/2021']"
      ]
     },
     "execution_count": 9,
     "metadata": {},
     "output_type": "execute_result"
    }
   ],
   "source": [
    "main_dirs = []\n",
    "category_dirs = [os.path.join(base, main_dir) for main_dir in os.listdir(base) if os.path.isdir(os.path.join(base, main_dir))]\n",
    "for category_dir in category_dirs:\n",
    "    main_dirs += [os.path.join(category_dir, year_dir) for year_dir in os.listdir(category_dir)]\n",
    "main_dirs"
   ]
  },
  {
   "cell_type": "code",
   "execution_count": 10,
   "id": "7b6ac253",
   "metadata": {},
   "outputs": [
    {
     "data": {
      "text/plain": [
       "'integrated-bit-312717.customs.customs_test3'"
      ]
     },
     "execution_count": 10,
     "metadata": {},
     "output_type": "execute_result"
    }
   ],
   "source": [
    "table_id"
   ]
  },
  {
   "cell_type": "code",
   "execution_count": 11,
   "id": "5abc36a4",
   "metadata": {},
   "outputs": [],
   "source": [
    "def check_value(value):\n",
    "    if math.isnan(value):\n",
    "        return 0\n",
    "    return int(value)\n",
    "\n",
    "def tranform_merge_df2jsonBQ(file_path):\n",
    "    df = pd.read_csv(file_path)\n",
    "    metas = file_path.split('/')\n",
    "    hs_code = metas[-1].split('.')[0]\n",
    "    data_type = metas[-3]\n",
    "    datas = []\n",
    "    for row_id, row in df.iterrows():\n",
    "        keys = list(row.keys())\n",
    "        keys.remove('Country')\n",
    "        datas += [\n",
    "            {\n",
    "                'country':row['Country'], \n",
    "                'hs_code':hs_code,\n",
    "                'type':data_type,\n",
    "                'year_month':key, \n",
    "                'value':check_value(row[key])\n",
    "            } \n",
    "        for key in keys]\n",
    "    return datas\n",
    "\n",
    "def upload2bq_thread(main_path):\n",
    "    paths = [os.path.join(main_path, file) for file in os.listdir(main_path)]\n",
    "    for path in tqdm(paths):\n",
    "        rows_to_insert = tranform_merge_df2jsonBQ(path)\n",
    "        if rows_to_insert != []:\n",
    "            try:\n",
    "                errors = client.insert_rows_json(table_id, rows_to_insert)\n",
    "            except Exception as e:\n",
    "                bq_errs.append(e)\n",
    "            else:\n",
    "                if errors != []:\n",
    "                    bq_errs.append(errors)"
   ]
  },
  {
   "cell_type": "markdown",
   "id": "6162dff0",
   "metadata": {},
   "source": [
    "# Parallel upload to BQ"
   ]
  },
  {
   "cell_type": "code",
   "execution_count": null,
   "id": "542acc02",
   "metadata": {},
   "outputs": [
    {
     "name": "stdout",
     "output_type": "stream",
     "text": [
      "Main    : before joining thread 0\n"
     ]
    },
    {
     "data": {
      "application/vnd.jupyter.widget-view+json": {
       "model_id": "ebc3f7afe8c84bf2a6ee167199eff3dc",
       "version_major": 2,
       "version_minor": 0
      },
      "text/plain": [
       "  0%|          | 0/1254 [00:00<?, ?it/s]"
      ]
     },
     "metadata": {},
     "output_type": "display_data"
    },
    {
     "data": {
      "application/vnd.jupyter.widget-view+json": {
       "model_id": "885e5178de0e4cb6a06de25723f27404",
       "version_major": 2,
       "version_minor": 0
      },
      "text/plain": [
       "  0%|          | 0/1254 [00:00<?, ?it/s]"
      ]
     },
     "metadata": {},
     "output_type": "display_data"
    },
    {
     "data": {
      "application/vnd.jupyter.widget-view+json": {
       "model_id": "e16a10ceae8d41b695dcc43d99263e21",
       "version_major": 2,
       "version_minor": 0
      },
      "text/plain": [
       "  0%|          | 0/1254 [00:00<?, ?it/s]"
      ]
     },
     "metadata": {},
     "output_type": "display_data"
    },
    {
     "data": {
      "application/vnd.jupyter.widget-view+json": {
       "model_id": "6933df6eed364ba38cca054959c04d45",
       "version_major": 2,
       "version_minor": 0
      },
      "text/plain": [
       "  0%|          | 0/1253 [00:00<?, ?it/s]"
      ]
     },
     "metadata": {},
     "output_type": "display_data"
    },
    {
     "data": {
      "application/vnd.jupyter.widget-view+json": {
       "model_id": "569fe190e6f94408a6c8a28ac7bd3529",
       "version_major": 2,
       "version_minor": 0
      },
      "text/plain": [
       "  0%|          | 0/1253 [00:00<?, ?it/s]"
      ]
     },
     "metadata": {},
     "output_type": "display_data"
    },
    {
     "data": {
      "application/vnd.jupyter.widget-view+json": {
       "model_id": "f0124cd0fc2248aaafab463bf5f69f31",
       "version_major": 2,
       "version_minor": 0
      },
      "text/plain": [
       "  0%|          | 0/1254 [00:00<?, ?it/s]"
      ]
     },
     "metadata": {},
     "output_type": "display_data"
    },
    {
     "data": {
      "application/vnd.jupyter.widget-view+json": {
       "model_id": "e8b84b79c40a42a598d776e001dee7c8",
       "version_major": 2,
       "version_minor": 0
      },
      "text/plain": [
       "  0%|          | 0/1254 [00:00<?, ?it/s]"
      ]
     },
     "metadata": {},
     "output_type": "display_data"
    },
    {
     "data": {
      "application/vnd.jupyter.widget-view+json": {
       "model_id": "0bd86324efb1404c84d1a20c9419cb9d",
       "version_major": 2,
       "version_minor": 0
      },
      "text/plain": [
       "  0%|          | 0/1253 [00:00<?, ?it/s]"
      ]
     },
     "metadata": {},
     "output_type": "display_data"
    },
    {
     "data": {
      "application/vnd.jupyter.widget-view+json": {
       "model_id": "7223ca96553c45f49967f192ee6ef450",
       "version_major": 2,
       "version_minor": 0
      },
      "text/plain": [
       "  0%|          | 0/1253 [00:00<?, ?it/s]"
      ]
     },
     "metadata": {},
     "output_type": "display_data"
    },
    {
     "data": {
      "application/vnd.jupyter.widget-view+json": {
       "model_id": "31cc72e8916c4f82afa16f6ebd963766",
       "version_major": 2,
       "version_minor": 0
      },
      "text/plain": [
       "  0%|          | 0/1253 [00:00<?, ?it/s]"
      ]
     },
     "metadata": {},
     "output_type": "display_data"
    },
    {
     "data": {
      "application/vnd.jupyter.widget-view+json": {
       "model_id": "91268476dd4a4dbba3b66848e00b7e94",
       "version_major": 2,
       "version_minor": 0
      },
      "text/plain": [
       "  0%|          | 0/1254 [00:00<?, ?it/s]"
      ]
     },
     "metadata": {},
     "output_type": "display_data"
    },
    {
     "data": {
      "application/vnd.jupyter.widget-view+json": {
       "model_id": "c5ad55eb6fd546e9b186f7dffc1b4147",
       "version_major": 2,
       "version_minor": 0
      },
      "text/plain": [
       "  0%|          | 0/1253 [00:00<?, ?it/s]"
      ]
     },
     "metadata": {},
     "output_type": "display_data"
    },
    {
     "data": {
      "application/vnd.jupyter.widget-view+json": {
       "model_id": "1596ab451705422f9c115ffb3abe8707",
       "version_major": 2,
       "version_minor": 0
      },
      "text/plain": [
       "  0%|          | 0/1254 [00:00<?, ?it/s]"
      ]
     },
     "metadata": {},
     "output_type": "display_data"
    },
    {
     "data": {
      "application/vnd.jupyter.widget-view+json": {
       "model_id": "c5ebe3262fd64441b71dc5c44844f123",
       "version_major": 2,
       "version_minor": 0
      },
      "text/plain": [
       "  0%|          | 0/1254 [00:00<?, ?it/s]"
      ]
     },
     "metadata": {},
     "output_type": "display_data"
    },
    {
     "data": {
      "application/vnd.jupyter.widget-view+json": {
       "model_id": "72672e862e6e41269f5f8d7dd15beb61",
       "version_major": 2,
       "version_minor": 0
      },
      "text/plain": [
       "  0%|          | 0/1253 [00:00<?, ?it/s]"
      ]
     },
     "metadata": {},
     "output_type": "display_data"
    },
    {
     "data": {
      "application/vnd.jupyter.widget-view+json": {
       "model_id": "b4d100b1ad9140b09257bc6ae09817e7",
       "version_major": 2,
       "version_minor": 0
      },
      "text/plain": [
       "  0%|          | 0/1253 [00:00<?, ?it/s]"
      ]
     },
     "metadata": {},
     "output_type": "display_data"
    },
    {
     "data": {
      "application/vnd.jupyter.widget-view+json": {
       "model_id": "3426a64433f844af9e8305a5e1b23c21",
       "version_major": 2,
       "version_minor": 0
      },
      "text/plain": [
       "  0%|          | 0/1253 [00:00<?, ?it/s]"
      ]
     },
     "metadata": {},
     "output_type": "display_data"
    },
    {
     "data": {
      "application/vnd.jupyter.widget-view+json": {
       "model_id": "4df071cce48447859eb968f137fb7ce1",
       "version_major": 2,
       "version_minor": 0
      },
      "text/plain": [
       "  0%|          | 0/1254 [00:00<?, ?it/s]"
      ]
     },
     "metadata": {},
     "output_type": "display_data"
    },
    {
     "data": {
      "application/vnd.jupyter.widget-view+json": {
       "model_id": "0dd5424d9e314e1cbda5db4ac4ec0fed",
       "version_major": 2,
       "version_minor": 0
      },
      "text/plain": [
       "  0%|          | 0/1253 [00:00<?, ?it/s]"
      ]
     },
     "metadata": {},
     "output_type": "display_data"
    },
    {
     "data": {
      "application/vnd.jupyter.widget-view+json": {
       "model_id": "d806c3960802484eb27fe3c34cfc6cd2",
       "version_major": 2,
       "version_minor": 0
      },
      "text/plain": [
       "  0%|          | 0/1253 [00:00<?, ?it/s]"
      ]
     },
     "metadata": {},
     "output_type": "display_data"
    },
    {
     "data": {
      "application/vnd.jupyter.widget-view+json": {
       "model_id": "777843f5556845fb8ff7676ebda9cd16",
       "version_major": 2,
       "version_minor": 0
      },
      "text/plain": [
       "  0%|          | 0/1254 [00:00<?, ?it/s]"
      ]
     },
     "metadata": {},
     "output_type": "display_data"
    },
    {
     "data": {
      "application/vnd.jupyter.widget-view+json": {
       "model_id": "22092e198cc74dd2a50904992b471c2e",
       "version_major": 2,
       "version_minor": 0
      },
      "text/plain": [
       "  0%|          | 0/1254 [00:00<?, ?it/s]"
      ]
     },
     "metadata": {},
     "output_type": "display_data"
    },
    {
     "data": {
      "application/vnd.jupyter.widget-view+json": {
       "model_id": "b347a4d1108042fda97e1d23c48673db",
       "version_major": 2,
       "version_minor": 0
      },
      "text/plain": [
       "  0%|          | 0/1254 [00:00<?, ?it/s]"
      ]
     },
     "metadata": {},
     "output_type": "display_data"
    },
    {
     "data": {
      "application/vnd.jupyter.widget-view+json": {
       "model_id": "2b0e89f42fe54f1388c12f6b941fbef0",
       "version_major": 2,
       "version_minor": 0
      },
      "text/plain": [
       "  0%|          | 0/1254 [00:00<?, ?it/s]"
      ]
     },
     "metadata": {},
     "output_type": "display_data"
    },
    {
     "data": {
      "application/vnd.jupyter.widget-view+json": {
       "model_id": "38f67278991442ffa8b66da28337d372",
       "version_major": 2,
       "version_minor": 0
      },
      "text/plain": [
       "  0%|          | 0/1254 [00:00<?, ?it/s]"
      ]
     },
     "metadata": {},
     "output_type": "display_data"
    },
    {
     "data": {
      "application/vnd.jupyter.widget-view+json": {
       "model_id": "9c733780920e4bed833bf16de3c3ded2",
       "version_major": 2,
       "version_minor": 0
      },
      "text/plain": [
       "  0%|          | 0/1253 [00:00<?, ?it/s]"
      ]
     },
     "metadata": {},
     "output_type": "display_data"
    },
    {
     "data": {
      "application/vnd.jupyter.widget-view+json": {
       "model_id": "46b24fe8d104414184a9ddfc33cb3b44",
       "version_major": 2,
       "version_minor": 0
      },
      "text/plain": [
       "  0%|          | 0/1254 [00:00<?, ?it/s]"
      ]
     },
     "metadata": {},
     "output_type": "display_data"
    },
    {
     "data": {
      "application/vnd.jupyter.widget-view+json": {
       "model_id": "74a9f917aa4c4869a8020d89430dbe3d",
       "version_major": 2,
       "version_minor": 0
      },
      "text/plain": [
       "  0%|          | 0/1254 [00:00<?, ?it/s]"
      ]
     },
     "metadata": {},
     "output_type": "display_data"
    },
    {
     "data": {
      "application/vnd.jupyter.widget-view+json": {
       "model_id": "59209ca85a234d099c87a6ceafa7388f",
       "version_major": 2,
       "version_minor": 0
      },
      "text/plain": [
       "  0%|          | 0/1253 [00:00<?, ?it/s]"
      ]
     },
     "metadata": {},
     "output_type": "display_data"
    },
    {
     "data": {
      "application/vnd.jupyter.widget-view+json": {
       "model_id": "fbae41176b61430fb490d124a6fe16c2",
       "version_major": 2,
       "version_minor": 0
      },
      "text/plain": [
       "  0%|          | 0/1253 [00:00<?, ?it/s]"
      ]
     },
     "metadata": {},
     "output_type": "display_data"
    },
    {
     "data": {
      "application/vnd.jupyter.widget-view+json": {
       "model_id": "eac32aba2d4742698e3ae597b57ce2b9",
       "version_major": 2,
       "version_minor": 0
      },
      "text/plain": [
       "  0%|          | 0/1253 [00:00<?, ?it/s]"
      ]
     },
     "metadata": {},
     "output_type": "display_data"
    },
    {
     "data": {
      "application/vnd.jupyter.widget-view+json": {
       "model_id": "48097da121ad4af5a3893cb61f74ed3e",
       "version_major": 2,
       "version_minor": 0
      },
      "text/plain": [
       "  0%|          | 0/1253 [00:00<?, ?it/s]"
      ]
     },
     "metadata": {},
     "output_type": "display_data"
    },
    {
     "data": {
      "application/vnd.jupyter.widget-view+json": {
       "model_id": "67fd53d78de44735bb155f605b7892dc",
       "version_major": 2,
       "version_minor": 0
      },
      "text/plain": [
       "  0%|          | 0/1254 [00:00<?, ?it/s]"
      ]
     },
     "metadata": {},
     "output_type": "display_data"
    },
    {
     "data": {
      "application/vnd.jupyter.widget-view+json": {
       "model_id": "64d14d926ef44513bdd62ffea18d5224",
       "version_major": 2,
       "version_minor": 0
      },
      "text/plain": [
       "  0%|          | 0/1253 [00:00<?, ?it/s]"
      ]
     },
     "metadata": {},
     "output_type": "display_data"
    },
    {
     "data": {
      "application/vnd.jupyter.widget-view+json": {
       "model_id": "9048982fa34a4f408dca9a7131b3cc9b",
       "version_major": 2,
       "version_minor": 0
      },
      "text/plain": [
       "  0%|          | 0/1253 [00:00<?, ?it/s]"
      ]
     },
     "metadata": {},
     "output_type": "display_data"
    },
    {
     "data": {
      "application/vnd.jupyter.widget-view+json": {
       "model_id": "d9231d9218084cc2a857ada10134c1de",
       "version_major": 2,
       "version_minor": 0
      },
      "text/plain": [
       "  0%|          | 0/1254 [00:00<?, ?it/s]"
      ]
     },
     "metadata": {},
     "output_type": "display_data"
    },
    {
     "data": {
      "application/vnd.jupyter.widget-view+json": {
       "model_id": "b86fe933b54541cea153b0ae0b824af0",
       "version_major": 2,
       "version_minor": 0
      },
      "text/plain": [
       "  0%|          | 0/1254 [00:00<?, ?it/s]"
      ]
     },
     "metadata": {},
     "output_type": "display_data"
    },
    {
     "data": {
      "application/vnd.jupyter.widget-view+json": {
       "model_id": "6c5bebd5e40b4145883c22d3f60b1bb4",
       "version_major": 2,
       "version_minor": 0
      },
      "text/plain": [
       "  0%|          | 0/1253 [00:00<?, ?it/s]"
      ]
     },
     "metadata": {},
     "output_type": "display_data"
    },
    {
     "data": {
      "application/vnd.jupyter.widget-view+json": {
       "model_id": "4195d2205c184456b804c82d596a5a61",
       "version_major": 2,
       "version_minor": 0
      },
      "text/plain": [
       "  0%|          | 0/1253 [00:00<?, ?it/s]"
      ]
     },
     "metadata": {},
     "output_type": "display_data"
    },
    {
     "data": {
      "application/vnd.jupyter.widget-view+json": {
       "model_id": "ac4ffeba323943c6ad2c76585881ddc1",
       "version_major": 2,
       "version_minor": 0
      },
      "text/plain": [
       "  0%|          | 0/1254 [00:00<?, ?it/s]"
      ]
     },
     "metadata": {},
     "output_type": "display_data"
    },
    {
     "data": {
      "application/vnd.jupyter.widget-view+json": {
       "model_id": "51e275d04fda499cb8eab5d254458df2",
       "version_major": 2,
       "version_minor": 0
      },
      "text/plain": [
       "  0%|          | 0/1253 [00:00<?, ?it/s]"
      ]
     },
     "metadata": {},
     "output_type": "display_data"
    },
    {
     "data": {
      "application/vnd.jupyter.widget-view+json": {
       "model_id": "5060e508cda44f118abf2292fb3a4a3e",
       "version_major": 2,
       "version_minor": 0
      },
      "text/plain": [
       "  0%|          | 0/1254 [00:00<?, ?it/s]"
      ]
     },
     "metadata": {},
     "output_type": "display_data"
    }
   ],
   "source": [
    "t=[]\n",
    "bq_errs = []\n",
    "for main_path in main_dirs:\n",
    "    x = threading.Thread(target=upload2bq_thread, args=(main_path,))\n",
    "    x.start()\n",
    "    t.append(x)\n",
    "for th_id, thread in enumerate(t):\n",
    "    print(\"Main    : before joining thread {}\".format(th_id))\n",
    "    thread.join()\n",
    "    print(\"Main.   : thread {} done\".format(th_id))"
   ]
  },
  {
   "cell_type": "code",
   "execution_count": null,
   "id": "cc9cb8c7",
   "metadata": {},
   "outputs": [],
   "source": []
  }
 ],
 "metadata": {
  "environment": {
   "name": "tf2-gpu.2-3.m69",
   "type": "gcloud",
   "uri": "gcr.io/deeplearning-platform-release/tf2-gpu.2-3:m69"
  },
  "kernelspec": {
   "display_name": "Python 3",
   "language": "python",
   "name": "python3"
  },
  "language_info": {
   "codemirror_mode": {
    "name": "ipython",
    "version": 3
   },
   "file_extension": ".py",
   "mimetype": "text/x-python",
   "name": "python",
   "nbconvert_exporter": "python",
   "pygments_lexer": "ipython3",
   "version": "3.7.10"
  }
 },
 "nbformat": 4,
 "nbformat_minor": 5
}
