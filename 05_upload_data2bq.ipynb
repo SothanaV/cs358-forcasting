{
 "cells": [
  {
   "cell_type": "code",
   "execution_count": 1,
   "id": "5c5059a8",
   "metadata": {},
   "outputs": [],
   "source": [
    "import os\n",
    "import pandas as pd\n",
    "import math\n",
    "import threading\n",
    "from google.cloud import bigquery\n",
    "from tqdm.notebook import tqdm"
   ]
  },
  {
   "cell_type": "code",
   "execution_count": 3,
   "id": "628fb7b9",
   "metadata": {},
   "outputs": [],
   "source": [
    "PROJECT_ID = \"integrated-bit-312717\"\n",
    "DATASET_NAME = 'customs'\n",
    "TABLE_NAME = \"customs_test2\"\n",
    "\n",
    "table_id = \"{project_id}.{dataset_name}.{table_name}\".format(project_id=PROJECT_ID, dataset_name=DATASET_NAME, \n",
    "            table_name=TABLE_NAME)"
   ]
  },
  {
   "cell_type": "code",
   "execution_count": 4,
   "id": "795d845b",
   "metadata": {},
   "outputs": [],
   "source": [
    "client = bigquery.Client(project=PROJECT_ID, location=\"US\")"
   ]
  },
  {
   "cell_type": "code",
   "execution_count": 5,
   "id": "3d1244c0",
   "metadata": {},
   "outputs": [
    {
     "name": "stdout",
     "output_type": "stream",
     "text": [
      "409 POST https://bigquery.googleapis.com/bigquery/v2/projects/integrated-bit-312717/datasets?prettyPrint=false: Already Exists: Dataset integrated-bit-312717:customs\n"
     ]
    }
   ],
   "source": [
    "try:\n",
    "    client.create_dataset('{dataset_name}'.format(dataset_name=DATASET_NAME))\n",
    "except Exception as e:\n",
    "    print(e)\n",
    "else:\n",
    "    print('Dataset {dataset_name} created'.format(dataset_name=DATASET_NAME))"
   ]
  },
  {
   "cell_type": "code",
   "execution_count": 6,
   "id": "be195e70",
   "metadata": {},
   "outputs": [],
   "source": [
    "schema = [\n",
    "    bigquery.SchemaField(\"country\", \"STRING\"),\n",
    "    bigquery.SchemaField(\"hs_code\", \"STRING\"),\n",
    "    bigquery.SchemaField(\"type\", \"STRING\"),\n",
    "    bigquery.SchemaField(\"year_month\", \"STRING\"),\n",
    "    bigquery.SchemaField(\"value\", \"INTEGER\")\n",
    "]"
   ]
  },
  {
   "cell_type": "code",
   "execution_count": 7,
   "id": "5802f979",
   "metadata": {},
   "outputs": [],
   "source": [
    "table = bigquery.Table(table_id, schema=schema)"
   ]
  },
  {
   "cell_type": "code",
   "execution_count": 8,
   "id": "d859bc1b",
   "metadata": {},
   "outputs": [
    {
     "name": "stdout",
     "output_type": "stream",
     "text": [
      "409 POST https://bigquery.googleapis.com/bigquery/v2/projects/integrated-bit-312717/datasets/customs/tables?prettyPrint=false: Already Exists: Table integrated-bit-312717:customs.customs_test2\n"
     ]
    }
   ],
   "source": [
    "try:\n",
    "    client.create_table(table)\n",
    "except Exception as e:\n",
    "    print(e)\n",
    "else:\n",
    "    print(\"table created\")"
   ]
  },
  {
   "cell_type": "code",
   "execution_count": null,
   "id": "33f40f60",
   "metadata": {},
   "outputs": [],
   "source": []
  },
  {
   "cell_type": "code",
   "execution_count": 9,
   "id": "d3277814",
   "metadata": {},
   "outputs": [],
   "source": [
    "base = \"bucket/merge_dataset_customs\""
   ]
  },
  {
   "cell_type": "code",
   "execution_count": 10,
   "id": "3ec66ea5",
   "metadata": {},
   "outputs": [
    {
     "data": {
      "text/plain": [
       "['bucket/merge_dataset_customs/export/2001',\n",
       " 'bucket/merge_dataset_customs/export/2002',\n",
       " 'bucket/merge_dataset_customs/export/2003',\n",
       " 'bucket/merge_dataset_customs/export/2004',\n",
       " 'bucket/merge_dataset_customs/export/2005',\n",
       " 'bucket/merge_dataset_customs/export/2006',\n",
       " 'bucket/merge_dataset_customs/export/2007',\n",
       " 'bucket/merge_dataset_customs/export/2008',\n",
       " 'bucket/merge_dataset_customs/export/2009',\n",
       " 'bucket/merge_dataset_customs/export/2010',\n",
       " 'bucket/merge_dataset_customs/export/2011',\n",
       " 'bucket/merge_dataset_customs/export/2012',\n",
       " 'bucket/merge_dataset_customs/export/2013',\n",
       " 'bucket/merge_dataset_customs/export/2014',\n",
       " 'bucket/merge_dataset_customs/export/2015',\n",
       " 'bucket/merge_dataset_customs/export/2016',\n",
       " 'bucket/merge_dataset_customs/export/2017',\n",
       " 'bucket/merge_dataset_customs/export/2018',\n",
       " 'bucket/merge_dataset_customs/export/2019',\n",
       " 'bucket/merge_dataset_customs/export/2020',\n",
       " 'bucket/merge_dataset_customs/export/2021',\n",
       " 'bucket/merge_dataset_customs/import/2001',\n",
       " 'bucket/merge_dataset_customs/import/2002',\n",
       " 'bucket/merge_dataset_customs/import/2003',\n",
       " 'bucket/merge_dataset_customs/import/2004',\n",
       " 'bucket/merge_dataset_customs/import/2005',\n",
       " 'bucket/merge_dataset_customs/import/2006',\n",
       " 'bucket/merge_dataset_customs/import/2007',\n",
       " 'bucket/merge_dataset_customs/import/2008',\n",
       " 'bucket/merge_dataset_customs/import/2009',\n",
       " 'bucket/merge_dataset_customs/import/2010',\n",
       " 'bucket/merge_dataset_customs/import/2011',\n",
       " 'bucket/merge_dataset_customs/import/2012',\n",
       " 'bucket/merge_dataset_customs/import/2013',\n",
       " 'bucket/merge_dataset_customs/import/2014',\n",
       " 'bucket/merge_dataset_customs/import/2015',\n",
       " 'bucket/merge_dataset_customs/import/2016',\n",
       " 'bucket/merge_dataset_customs/import/2017',\n",
       " 'bucket/merge_dataset_customs/import/2018',\n",
       " 'bucket/merge_dataset_customs/import/2019',\n",
       " 'bucket/merge_dataset_customs/import/2020',\n",
       " 'bucket/merge_dataset_customs/import/2021']"
      ]
     },
     "execution_count": 10,
     "metadata": {},
     "output_type": "execute_result"
    }
   ],
   "source": [
    "main_dirs = []\n",
    "category_dirs = [os.path.join(base, main_dir) for main_dir in os.listdir(base) if os.path.isdir(os.path.join(base, main_dir))]\n",
    "for category_dir in category_dirs:\n",
    "    main_dirs += [os.path.join(category_dir, year_dir) for year_dir in os.listdir(category_dir)]\n",
    "main_dirs"
   ]
  },
  {
   "cell_type": "code",
   "execution_count": 11,
   "id": "6215684c",
   "metadata": {},
   "outputs": [
    {
     "data": {
      "text/plain": [
       "'integrated-bit-312717.customs.customs_test2'"
      ]
     },
     "execution_count": 11,
     "metadata": {},
     "output_type": "execute_result"
    }
   ],
   "source": [
    "table_id"
   ]
  },
  {
   "cell_type": "code",
   "execution_count": 12,
   "id": "19388bbe",
   "metadata": {},
   "outputs": [],
   "source": [
    "def check_value(value):\n",
    "    if math.isnan(value):\n",
    "        return 0\n",
    "    return int(value)\n",
    "\n",
    "def tranform_merge_df2jsonBQ(file_path):\n",
    "    df = pd.read_csv(file_path)\n",
    "    metas = file_path.split('/')\n",
    "    hs_code = metas[-2]\n",
    "    data_type = metas[-3]\n",
    "    datas = []\n",
    "    for row_id, row in df.iterrows():\n",
    "        keys = list(row.keys())\n",
    "        keys.remove('Country')\n",
    "        datas += [\n",
    "            {\n",
    "                'country':row['Country'], \n",
    "                'hs_code':hs_code,\n",
    "                'type':data_type,\n",
    "                'year_month':key, \n",
    "                'value':check_value(row[key])\n",
    "            } \n",
    "        for key in keys]\n",
    "    return datas\n",
    "\n",
    "def upload2bq_thread(main_path):\n",
    "    paths = [os.path.join(main_path, file) for file in os.listdir(main_path)]\n",
    "    for path in tqdm(paths):\n",
    "        rows_to_insert = tranform_merge_df2jsonBQ(path)\n",
    "        if rows_to_insert != []:\n",
    "            try:\n",
    "                errors = client.insert_rows_json(table_id, rows_to_insert)\n",
    "            except Exception as e:\n",
    "                bq_errs.append(e)\n",
    "            else:\n",
    "                if errors != []:\n",
    "                    bq_errs.append(errors)"
   ]
  },
  {
   "cell_type": "markdown",
   "id": "01af8e1c",
   "metadata": {},
   "source": [
    "# Parallel upload to BQ"
   ]
  },
  {
   "cell_type": "code",
   "execution_count": 13,
   "id": "2e093955",
   "metadata": {},
   "outputs": [
    {
     "name": "stdout",
     "output_type": "stream",
     "text": [
      "Main    : before joining thread 0\n"
     ]
    },
    {
     "data": {
      "application/vnd.jupyter.widget-view+json": {
       "model_id": "cfcb6d4f5754470a9ca41467c58a3cec",
       "version_major": 2,
       "version_minor": 0
      },
      "text/plain": [
       "  0%|          | 0/1254 [00:00<?, ?it/s]"
      ]
     },
     "metadata": {},
     "output_type": "display_data"
    },
    {
     "data": {
      "application/vnd.jupyter.widget-view+json": {
       "model_id": "e8284df048834a9d93d4f817872ed98b",
       "version_major": 2,
       "version_minor": 0
      },
      "text/plain": [
       "  0%|          | 0/1254 [00:00<?, ?it/s]"
      ]
     },
     "metadata": {},
     "output_type": "display_data"
    },
    {
     "data": {
      "application/vnd.jupyter.widget-view+json": {
       "model_id": "d8884a29696849fba69b3a685f7e58dd",
       "version_major": 2,
       "version_minor": 0
      },
      "text/plain": [
       "  0%|          | 0/1253 [00:00<?, ?it/s]"
      ]
     },
     "metadata": {},
     "output_type": "display_data"
    },
    {
     "data": {
      "application/vnd.jupyter.widget-view+json": {
       "model_id": "97561e5b5a364a4ebdc6ec1de498ee03",
       "version_major": 2,
       "version_minor": 0
      },
      "text/plain": [
       "  0%|          | 0/1253 [00:00<?, ?it/s]"
      ]
     },
     "metadata": {},
     "output_type": "display_data"
    },
    {
     "data": {
      "application/vnd.jupyter.widget-view+json": {
       "model_id": "7a6d6f9506e74fbf9c25d8ca007915ee",
       "version_major": 2,
       "version_minor": 0
      },
      "text/plain": [
       "  0%|          | 0/1254 [00:00<?, ?it/s]"
      ]
     },
     "metadata": {},
     "output_type": "display_data"
    },
    {
     "data": {
      "application/vnd.jupyter.widget-view+json": {
       "model_id": "a938880a6df5458c8668cc6083288bc1",
       "version_major": 2,
       "version_minor": 0
      },
      "text/plain": [
       "  0%|          | 0/1254 [00:00<?, ?it/s]"
      ]
     },
     "metadata": {},
     "output_type": "display_data"
    },
    {
     "data": {
      "application/vnd.jupyter.widget-view+json": {
       "model_id": "0b1a642ceb744a1fbd9bf660040af6e9",
       "version_major": 2,
       "version_minor": 0
      },
      "text/plain": [
       "  0%|          | 0/1253 [00:00<?, ?it/s]"
      ]
     },
     "metadata": {},
     "output_type": "display_data"
    },
    {
     "data": {
      "application/vnd.jupyter.widget-view+json": {
       "model_id": "964cc356024947c0a59b4c2c65f8d704",
       "version_major": 2,
       "version_minor": 0
      },
      "text/plain": [
       "  0%|          | 0/1254 [00:00<?, ?it/s]"
      ]
     },
     "metadata": {},
     "output_type": "display_data"
    },
    {
     "data": {
      "application/vnd.jupyter.widget-view+json": {
       "model_id": "d7dbf80d8c4d478a9bd553b78cb9c6d3",
       "version_major": 2,
       "version_minor": 0
      },
      "text/plain": [
       "  0%|          | 0/1254 [00:00<?, ?it/s]"
      ]
     },
     "metadata": {},
     "output_type": "display_data"
    },
    {
     "data": {
      "application/vnd.jupyter.widget-view+json": {
       "model_id": "5ee263c7678b416aa8cd1a9c961c40a9",
       "version_major": 2,
       "version_minor": 0
      },
      "text/plain": [
       "  0%|          | 0/1253 [00:00<?, ?it/s]"
      ]
     },
     "metadata": {},
     "output_type": "display_data"
    },
    {
     "data": {
      "application/vnd.jupyter.widget-view+json": {
       "model_id": "c0199381305648cdbac72de7f19b1c36",
       "version_major": 2,
       "version_minor": 0
      },
      "text/plain": [
       "  0%|          | 0/1254 [00:00<?, ?it/s]"
      ]
     },
     "metadata": {},
     "output_type": "display_data"
    },
    {
     "data": {
      "application/vnd.jupyter.widget-view+json": {
       "model_id": "84333470b8ad488ea116819a00a5d5ca",
       "version_major": 2,
       "version_minor": 0
      },
      "text/plain": [
       "  0%|          | 0/1253 [00:00<?, ?it/s]"
      ]
     },
     "metadata": {},
     "output_type": "display_data"
    },
    {
     "data": {
      "application/vnd.jupyter.widget-view+json": {
       "model_id": "49573093271f4dfbaee206826dd9d995",
       "version_major": 2,
       "version_minor": 0
      },
      "text/plain": [
       "  0%|          | 0/1253 [00:00<?, ?it/s]"
      ]
     },
     "metadata": {},
     "output_type": "display_data"
    },
    {
     "data": {
      "application/vnd.jupyter.widget-view+json": {
       "model_id": "3430491e7b75482096647dd70e190fb0",
       "version_major": 2,
       "version_minor": 0
      },
      "text/plain": [
       "  0%|          | 0/1253 [00:00<?, ?it/s]"
      ]
     },
     "metadata": {},
     "output_type": "display_data"
    },
    {
     "data": {
      "application/vnd.jupyter.widget-view+json": {
       "model_id": "3641e949a3484ef080a847532018808f",
       "version_major": 2,
       "version_minor": 0
      },
      "text/plain": [
       "  0%|          | 0/1254 [00:00<?, ?it/s]"
      ]
     },
     "metadata": {},
     "output_type": "display_data"
    },
    {
     "data": {
      "application/vnd.jupyter.widget-view+json": {
       "model_id": "57eeddb756eb465c853fc9608e5426b0",
       "version_major": 2,
       "version_minor": 0
      },
      "text/plain": [
       "  0%|          | 0/1253 [00:00<?, ?it/s]"
      ]
     },
     "metadata": {},
     "output_type": "display_data"
    },
    {
     "data": {
      "application/vnd.jupyter.widget-view+json": {
       "model_id": "251c48afd4d845a189e1801e3235915a",
       "version_major": 2,
       "version_minor": 0
      },
      "text/plain": [
       "  0%|          | 0/1253 [00:00<?, ?it/s]"
      ]
     },
     "metadata": {},
     "output_type": "display_data"
    },
    {
     "data": {
      "application/vnd.jupyter.widget-view+json": {
       "model_id": "19bdff5c904a4af2b36e763bee598507",
       "version_major": 2,
       "version_minor": 0
      },
      "text/plain": [
       "  0%|          | 0/1254 [00:00<?, ?it/s]"
      ]
     },
     "metadata": {},
     "output_type": "display_data"
    },
    {
     "data": {
      "application/vnd.jupyter.widget-view+json": {
       "model_id": "6658a3092ac04438885d1e4f392c2e8b",
       "version_major": 2,
       "version_minor": 0
      },
      "text/plain": [
       "  0%|          | 0/1254 [00:00<?, ?it/s]"
      ]
     },
     "metadata": {},
     "output_type": "display_data"
    },
    {
     "data": {
      "application/vnd.jupyter.widget-view+json": {
       "model_id": "4fe14c704d394fbfbb51374bfde686a4",
       "version_major": 2,
       "version_minor": 0
      },
      "text/plain": [
       "  0%|          | 0/1254 [00:00<?, ?it/s]"
      ]
     },
     "metadata": {},
     "output_type": "display_data"
    },
    {
     "data": {
      "application/vnd.jupyter.widget-view+json": {
       "model_id": "fe054096f3a34b37b293cd99e4a85b2a",
       "version_major": 2,
       "version_minor": 0
      },
      "text/plain": [
       "  0%|          | 0/1254 [00:00<?, ?it/s]"
      ]
     },
     "metadata": {},
     "output_type": "display_data"
    },
    {
     "data": {
      "application/vnd.jupyter.widget-view+json": {
       "model_id": "f3d1e8cbbec54eb7bbb185ca06b98094",
       "version_major": 2,
       "version_minor": 0
      },
      "text/plain": [
       "  0%|          | 0/1253 [00:00<?, ?it/s]"
      ]
     },
     "metadata": {},
     "output_type": "display_data"
    },
    {
     "data": {
      "application/vnd.jupyter.widget-view+json": {
       "model_id": "3283326ec6234ac2a918252ef6c7abc2",
       "version_major": 2,
       "version_minor": 0
      },
      "text/plain": [
       "  0%|          | 0/1254 [00:00<?, ?it/s]"
      ]
     },
     "metadata": {},
     "output_type": "display_data"
    },
    {
     "data": {
      "application/vnd.jupyter.widget-view+json": {
       "model_id": "25161c8c187248a5a4ebbea46e54ce26",
       "version_major": 2,
       "version_minor": 0
      },
      "text/plain": [
       "  0%|          | 0/1254 [00:00<?, ?it/s]"
      ]
     },
     "metadata": {},
     "output_type": "display_data"
    },
    {
     "data": {
      "application/vnd.jupyter.widget-view+json": {
       "model_id": "57b5077c2aac4382950fd64b8e7f5f6e",
       "version_major": 2,
       "version_minor": 0
      },
      "text/plain": [
       "  0%|          | 0/1253 [00:00<?, ?it/s]"
      ]
     },
     "metadata": {},
     "output_type": "display_data"
    },
    {
     "data": {
      "application/vnd.jupyter.widget-view+json": {
       "model_id": "c52ea841cc83498baa523a0fda95b71c",
       "version_major": 2,
       "version_minor": 0
      },
      "text/plain": [
       "  0%|          | 0/1253 [00:00<?, ?it/s]"
      ]
     },
     "metadata": {},
     "output_type": "display_data"
    },
    {
     "data": {
      "application/vnd.jupyter.widget-view+json": {
       "model_id": "750aee31bc3c4f5b84e625771f898dfb",
       "version_major": 2,
       "version_minor": 0
      },
      "text/plain": [
       "  0%|          | 0/1253 [00:00<?, ?it/s]"
      ]
     },
     "metadata": {},
     "output_type": "display_data"
    },
    {
     "data": {
      "application/vnd.jupyter.widget-view+json": {
       "model_id": "f210d9741f3a418d8d7d1d0a069cd217",
       "version_major": 2,
       "version_minor": 0
      },
      "text/plain": [
       "  0%|          | 0/1253 [00:00<?, ?it/s]"
      ]
     },
     "metadata": {},
     "output_type": "display_data"
    },
    {
     "data": {
      "application/vnd.jupyter.widget-view+json": {
       "model_id": "00be48325a514e8c9818c8e079d634c2",
       "version_major": 2,
       "version_minor": 0
      },
      "text/plain": [
       "  0%|          | 0/1254 [00:00<?, ?it/s]"
      ]
     },
     "metadata": {},
     "output_type": "display_data"
    },
    {
     "data": {
      "application/vnd.jupyter.widget-view+json": {
       "model_id": "d611993bd338461ba566bde75382e930",
       "version_major": 2,
       "version_minor": 0
      },
      "text/plain": [
       "  0%|          | 0/1253 [00:00<?, ?it/s]"
      ]
     },
     "metadata": {},
     "output_type": "display_data"
    },
    {
     "data": {
      "application/vnd.jupyter.widget-view+json": {
       "model_id": "0778aac31c3b446fa81f1980e4fc9d38",
       "version_major": 2,
       "version_minor": 0
      },
      "text/plain": [
       "  0%|          | 0/1254 [00:00<?, ?it/s]"
      ]
     },
     "metadata": {},
     "output_type": "display_data"
    },
    {
     "data": {
      "application/vnd.jupyter.widget-view+json": {
       "model_id": "88d344139ef7497c829e326f495bd317",
       "version_major": 2,
       "version_minor": 0
      },
      "text/plain": [
       "  0%|          | 0/1253 [00:00<?, ?it/s]"
      ]
     },
     "metadata": {},
     "output_type": "display_data"
    },
    {
     "data": {
      "application/vnd.jupyter.widget-view+json": {
       "model_id": "0626e7e618954d3597a8e919f200e400",
       "version_major": 2,
       "version_minor": 0
      },
      "text/plain": [
       "  0%|          | 0/1253 [00:00<?, ?it/s]"
      ]
     },
     "metadata": {},
     "output_type": "display_data"
    },
    {
     "data": {
      "application/vnd.jupyter.widget-view+json": {
       "model_id": "47d01275fce44b11964f076ba414327b",
       "version_major": 2,
       "version_minor": 0
      },
      "text/plain": [
       "  0%|          | 0/1254 [00:00<?, ?it/s]"
      ]
     },
     "metadata": {},
     "output_type": "display_data"
    },
    {
     "data": {
      "application/vnd.jupyter.widget-view+json": {
       "model_id": "192920db007e445abfabd49e93142660",
       "version_major": 2,
       "version_minor": 0
      },
      "text/plain": [
       "  0%|          | 0/1253 [00:00<?, ?it/s]"
      ]
     },
     "metadata": {},
     "output_type": "display_data"
    },
    {
     "data": {
      "application/vnd.jupyter.widget-view+json": {
       "model_id": "dcb429b37bc647d49d1130642fe75f66",
       "version_major": 2,
       "version_minor": 0
      },
      "text/plain": [
       "  0%|          | 0/1254 [00:00<?, ?it/s]"
      ]
     },
     "metadata": {},
     "output_type": "display_data"
    },
    {
     "data": {
      "application/vnd.jupyter.widget-view+json": {
       "model_id": "87bdbd589ccc433294564cc682a2de93",
       "version_major": 2,
       "version_minor": 0
      },
      "text/plain": [
       "  0%|          | 0/1254 [00:00<?, ?it/s]"
      ]
     },
     "metadata": {},
     "output_type": "display_data"
    },
    {
     "data": {
      "application/vnd.jupyter.widget-view+json": {
       "model_id": "c1d5b506843247d099a30d734c10738f",
       "version_major": 2,
       "version_minor": 0
      },
      "text/plain": [
       "  0%|          | 0/1253 [00:00<?, ?it/s]"
      ]
     },
     "metadata": {},
     "output_type": "display_data"
    },
    {
     "data": {
      "application/vnd.jupyter.widget-view+json": {
       "model_id": "d075177e84db4c07a0b6dfb5e1806828",
       "version_major": 2,
       "version_minor": 0
      },
      "text/plain": [
       "  0%|          | 0/1253 [00:00<?, ?it/s]"
      ]
     },
     "metadata": {},
     "output_type": "display_data"
    },
    {
     "data": {
      "application/vnd.jupyter.widget-view+json": {
       "model_id": "a4e6c5a978e24d6f9f1fe3d61e50cc35",
       "version_major": 2,
       "version_minor": 0
      },
      "text/plain": [
       "  0%|          | 0/1254 [00:00<?, ?it/s]"
      ]
     },
     "metadata": {},
     "output_type": "display_data"
    },
    {
     "data": {
      "application/vnd.jupyter.widget-view+json": {
       "model_id": "68ef4976bf0f4c2590bc332875826ce2",
       "version_major": 2,
       "version_minor": 0
      },
      "text/plain": [
       "  0%|          | 0/1253 [00:00<?, ?it/s]"
      ]
     },
     "metadata": {},
     "output_type": "display_data"
    },
    {
     "data": {
      "application/vnd.jupyter.widget-view+json": {
       "model_id": "b290fa52b6be46869928b9df6b318799",
       "version_major": 2,
       "version_minor": 0
      },
      "text/plain": [
       "  0%|          | 0/1254 [00:00<?, ?it/s]"
      ]
     },
     "metadata": {},
     "output_type": "display_data"
    },
    {
     "name": "stdout",
     "output_type": "stream",
     "text": [
      "Main.   : thread 0 done\n",
      "Main    : before joining thread 1\n",
      "Main.   : thread 1 done\n",
      "Main    : before joining thread 2\n",
      "Main.   : thread 2 done\n",
      "Main    : before joining thread 3\n",
      "Main.   : thread 3 done\n",
      "Main    : before joining thread 4\n",
      "Main.   : thread 4 done\n",
      "Main    : before joining thread 5\n",
      "Main.   : thread 5 done\n",
      "Main    : before joining thread 6\n",
      "Main.   : thread 6 done\n",
      "Main    : before joining thread 7\n",
      "Main.   : thread 7 done\n",
      "Main    : before joining thread 8\n",
      "Main.   : thread 8 done\n",
      "Main    : before joining thread 9\n",
      "Main.   : thread 9 done\n",
      "Main    : before joining thread 10\n",
      "Main.   : thread 10 done\n",
      "Main    : before joining thread 11\n",
      "Main.   : thread 11 done\n",
      "Main    : before joining thread 12\n",
      "Main.   : thread 12 done\n",
      "Main    : before joining thread 13\n",
      "Main.   : thread 13 done\n",
      "Main    : before joining thread 14\n",
      "Main.   : thread 14 done\n",
      "Main    : before joining thread 15\n",
      "Main.   : thread 15 done\n",
      "Main    : before joining thread 16\n",
      "Main.   : thread 16 done\n",
      "Main    : before joining thread 17\n",
      "Main.   : thread 17 done\n",
      "Main    : before joining thread 18\n",
      "Main.   : thread 18 done\n",
      "Main    : before joining thread 19\n",
      "Main.   : thread 19 done\n",
      "Main    : before joining thread 20\n",
      "Main.   : thread 20 done\n",
      "Main    : before joining thread 21\n",
      "Main.   : thread 21 done\n",
      "Main    : before joining thread 22\n",
      "Main.   : thread 22 done\n",
      "Main    : before joining thread 23\n",
      "Main.   : thread 23 done\n",
      "Main    : before joining thread 24\n",
      "Main.   : thread 24 done\n",
      "Main    : before joining thread 25\n",
      "Main.   : thread 25 done\n",
      "Main    : before joining thread 26\n",
      "Main.   : thread 26 done\n",
      "Main    : before joining thread 27\n",
      "Main.   : thread 27 done\n",
      "Main    : before joining thread 28\n",
      "Main.   : thread 28 done\n",
      "Main    : before joining thread 29\n",
      "Main.   : thread 29 done\n",
      "Main    : before joining thread 30\n",
      "Main.   : thread 30 done\n",
      "Main    : before joining thread 31\n",
      "Main.   : thread 31 done\n",
      "Main    : before joining thread 32\n",
      "Main.   : thread 32 done\n",
      "Main    : before joining thread 33\n",
      "Main.   : thread 33 done\n",
      "Main    : before joining thread 34\n",
      "Main.   : thread 34 done\n",
      "Main    : before joining thread 35\n",
      "Main.   : thread 35 done\n",
      "Main    : before joining thread 36\n",
      "Main.   : thread 36 done\n",
      "Main    : before joining thread 37\n",
      "Main.   : thread 37 done\n",
      "Main    : before joining thread 38\n",
      "Main.   : thread 38 done\n",
      "Main    : before joining thread 39\n",
      "Main.   : thread 39 done\n",
      "Main    : before joining thread 40\n",
      "Main.   : thread 40 done\n",
      "Main    : before joining thread 41\n",
      "Main.   : thread 41 done\n"
     ]
    }
   ],
   "source": [
    "t=[]\n",
    "bq_errs = []\n",
    "for main_path in main_dirs:\n",
    "    x = threading.Thread(target=upload2bq_thread, args=(main_path,))\n",
    "    x.start()\n",
    "    t.append(x)\n",
    "for th_id, thread in enumerate(t):\n",
    "    print(\"Main    : before joining thread {}\".format(th_id))\n",
    "    thread.join()\n",
    "    print(\"Main.   : thread {} done\".format(th_id))"
   ]
  },
  {
   "cell_type": "code",
   "execution_count": null,
   "id": "d4e5dcd9",
   "metadata": {},
   "outputs": [],
   "source": []
  }
 ],
 "metadata": {
  "environment": {
   "name": "tf2-gpu.2-3.m69",
   "type": "gcloud",
   "uri": "gcr.io/deeplearning-platform-release/tf2-gpu.2-3:m69"
  },
  "kernelspec": {
   "display_name": "Python 3",
   "language": "python",
   "name": "python3"
  },
  "language_info": {
   "codemirror_mode": {
    "name": "ipython",
    "version": 3
   },
   "file_extension": ".py",
   "mimetype": "text/x-python",
   "name": "python",
   "nbconvert_exporter": "python",
   "pygments_lexer": "ipython3",
   "version": "3.7.10"
  }
 },
 "nbformat": 4,
 "nbformat_minor": 5
}
