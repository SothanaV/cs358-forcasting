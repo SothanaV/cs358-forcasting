{
 "cells": [
  {
   "cell_type": "code",
   "execution_count": 20,
   "metadata": {},
   "outputs": [],
   "source": [
    "from google.cloud import bigquery\n",
    "import pandas as pd"
   ]
  },
  {
   "cell_type": "code",
   "execution_count": 21,
   "metadata": {},
   "outputs": [
    {
     "data": {
      "text/plain": [
       "'integrated-bit-312717.customs.customs_test3'"
      ]
     },
     "execution_count": 21,
     "metadata": {},
     "output_type": "execute_result"
    }
   ],
   "source": [
    "PROJECT_ID = \"<YOUR PROJECT ID>\"\n",
    "DATASET_NAME = '<YOUR DATASET_NAME>'\n",
    "TABLE_NAME = \"<YOUR TABLE_NAME>\"\n",
    "\n",
    "table_id = \"{project_id}.{dataset_name}.{table_name}\".format(project_id=PROJECT_ID, dataset_name=DATASET_NAME, \n",
    "            table_name=TABLE_NAME)\n",
    "table_id"
   ]
  },
  {
   "cell_type": "code",
   "execution_count": 22,
   "metadata": {},
   "outputs": [],
   "source": [
    "client = bigquery.Client(project=PROJECT_ID, location=\"US\")"
   ]
  },
  {
   "cell_type": "code",
   "execution_count": 23,
   "metadata": {},
   "outputs": [
    {
     "data": {
      "text/plain": [
       "['country => STRING',\n",
       " 'hs_code => STRING',\n",
       " 'type => STRING',\n",
       " 'year_month => STRING',\n",
       " 'value => INTEGER']"
      ]
     },
     "execution_count": 23,
     "metadata": {},
     "output_type": "execute_result"
    }
   ],
   "source": [
    "table = client.get_table(table_id)\n",
    "schema = [\"{0} => {1}\".format(schema.name,schema.field_type) for schema in table.schema]\n",
    "schema"
   ]
  },
  {
   "cell_type": "code",
   "execution_count": 24,
   "metadata": {},
   "outputs": [
    {
     "data": {
      "text/plain": [
       "<google.cloud.bigquery.table.RowIterator at 0x7fe4ec11e6d0>"
      ]
     },
     "execution_count": 24,
     "metadata": {},
     "output_type": "execute_result"
    }
   ],
   "source": [
    "query_job = client.query(\n",
    "    \"\"\"\n",
    "        SELECT * from `{TABLE_ID}` LIMIT 1000\n",
    "    \"\"\".format(TABLE_ID=table_id)\n",
    ")\n",
    "result = query_job.result()\n",
    "result"
   ]
  },
  {
   "cell_type": "code",
   "execution_count": 25,
   "metadata": {},
   "outputs": [],
   "source": [
    "data = [{\n",
    "    'country':row.country,\n",
    "    'hs_code':row.hs_code,\n",
    "    'type':row.type,\n",
    "    'year_month':row.year_month,\n",
    "    'value':row.value\n",
    "} for row in result]"
   ]
  },
  {
   "cell_type": "code",
   "execution_count": 26,
   "metadata": {},
   "outputs": [
    {
     "data": {
      "text/plain": [
       "[{'country': 'HONG KONG',\n",
       "  'hs_code': '2910',\n",
       "  'type': 'export',\n",
       "  'year_month': '2020-04',\n",
       "  'value': 82929},\n",
       " {'country': 'BELGIUM',\n",
       "  'hs_code': '2805',\n",
       "  'type': 'import',\n",
       "  'year_month': '2009-02',\n",
       "  'value': 441},\n",
       " {'country': 'SWITZERLAND',\n",
       "  'hs_code': '2929',\n",
       "  'type': 'import',\n",
       "  'year_month': '2011-03',\n",
       "  'value': 512},\n",
       " {'country': 'PAKISTAN',\n",
       "  'hs_code': '3302',\n",
       "  'type': 'export',\n",
       "  'year_month': '2016-04',\n",
       "  'value': 604261},\n",
       " {'country': 'GUAM',\n",
       "  'hs_code': '2007',\n",
       "  'type': 'export',\n",
       "  'year_month': '2001-08',\n",
       "  'value': 0},\n",
       " {'country': 'CANADA',\n",
       "  'hs_code': '2005',\n",
       "  'type': 'export',\n",
       "  'year_month': '2011-03',\n",
       "  'value': 13839058},\n",
       " {'country': 'SLOVAKIA',\n",
       "  'hs_code': '2106',\n",
       "  'type': 'export',\n",
       "  'year_month': '2002-08',\n",
       "  'value': 0},\n",
       " {'country': 'INDONESIA',\n",
       "  'hs_code': '3707',\n",
       "  'type': 'export',\n",
       "  'year_month': '2004-11',\n",
       "  'value': 6150399},\n",
       " {'country': 'FRANCE',\n",
       "  'hs_code': '2834',\n",
       "  'type': 'import',\n",
       "  'year_month': '2009-03',\n",
       "  'value': 0},\n",
       " {'country': 'AUSTRALIA',\n",
       "  'hs_code': '3507',\n",
       "  'type': 'import',\n",
       "  'year_month': '2001-08',\n",
       "  'value': 0}]"
      ]
     },
     "execution_count": 26,
     "metadata": {},
     "output_type": "execute_result"
    }
   ],
   "source": [
    "data[::100]"
   ]
  },
  {
   "cell_type": "code",
   "execution_count": 27,
   "metadata": {},
   "outputs": [
    {
     "data": {
      "text/html": [
       "<div>\n",
       "<style scoped>\n",
       "    .dataframe tbody tr th:only-of-type {\n",
       "        vertical-align: middle;\n",
       "    }\n",
       "\n",
       "    .dataframe tbody tr th {\n",
       "        vertical-align: top;\n",
       "    }\n",
       "\n",
       "    .dataframe thead th {\n",
       "        text-align: right;\n",
       "    }\n",
       "</style>\n",
       "<table border=\"1\" class=\"dataframe\">\n",
       "  <thead>\n",
       "    <tr style=\"text-align: right;\">\n",
       "      <th></th>\n",
       "      <th>country</th>\n",
       "      <th>hs_code</th>\n",
       "      <th>type</th>\n",
       "      <th>year_month</th>\n",
       "      <th>value</th>\n",
       "    </tr>\n",
       "  </thead>\n",
       "  <tbody>\n",
       "    <tr>\n",
       "      <th>0</th>\n",
       "      <td>HONG KONG</td>\n",
       "      <td>2910</td>\n",
       "      <td>export</td>\n",
       "      <td>2020-04</td>\n",
       "      <td>82929</td>\n",
       "    </tr>\n",
       "    <tr>\n",
       "      <th>1</th>\n",
       "      <td>JAPAN</td>\n",
       "      <td>3406</td>\n",
       "      <td>export</td>\n",
       "      <td>2004-01</td>\n",
       "      <td>979168</td>\n",
       "    </tr>\n",
       "    <tr>\n",
       "      <th>2</th>\n",
       "      <td>CHILE</td>\n",
       "      <td>3209</td>\n",
       "      <td>export</td>\n",
       "      <td>2013-12</td>\n",
       "      <td>0</td>\n",
       "    </tr>\n",
       "    <tr>\n",
       "      <th>3</th>\n",
       "      <td>GUAM</td>\n",
       "      <td>2101</td>\n",
       "      <td>export</td>\n",
       "      <td>2011-06</td>\n",
       "      <td>0</td>\n",
       "    </tr>\n",
       "    <tr>\n",
       "      <th>4</th>\n",
       "      <td>BRUNEI DARUSSALAM</td>\n",
       "      <td>2101</td>\n",
       "      <td>export</td>\n",
       "      <td>2006-12</td>\n",
       "      <td>22500</td>\n",
       "    </tr>\n",
       "    <tr>\n",
       "      <th>...</th>\n",
       "      <td>...</td>\n",
       "      <td>...</td>\n",
       "      <td>...</td>\n",
       "      <td>...</td>\n",
       "      <td>...</td>\n",
       "    </tr>\n",
       "    <tr>\n",
       "      <th>995</th>\n",
       "      <td>NEW ZEALAND</td>\n",
       "      <td>2515</td>\n",
       "      <td>export</td>\n",
       "      <td>2004-10</td>\n",
       "      <td>0</td>\n",
       "    </tr>\n",
       "    <tr>\n",
       "      <th>996</th>\n",
       "      <td>POLAND</td>\n",
       "      <td>2004</td>\n",
       "      <td>import</td>\n",
       "      <td>2017-05</td>\n",
       "      <td>9882</td>\n",
       "    </tr>\n",
       "    <tr>\n",
       "      <th>997</th>\n",
       "      <td>GERMANY</td>\n",
       "      <td>3210</td>\n",
       "      <td>export</td>\n",
       "      <td>2008-08</td>\n",
       "      <td>0</td>\n",
       "    </tr>\n",
       "    <tr>\n",
       "      <th>998</th>\n",
       "      <td>MALDIVES</td>\n",
       "      <td>1902</td>\n",
       "      <td>export</td>\n",
       "      <td>2001-12</td>\n",
       "      <td>2072</td>\n",
       "    </tr>\n",
       "    <tr>\n",
       "      <th>999</th>\n",
       "      <td>SWAZILAND</td>\n",
       "      <td>3924</td>\n",
       "      <td>import</td>\n",
       "      <td>2010-10</td>\n",
       "      <td>0</td>\n",
       "    </tr>\n",
       "  </tbody>\n",
       "</table>\n",
       "<p>1000 rows × 5 columns</p>\n",
       "</div>"
      ],
      "text/plain": [
       "               country hs_code    type year_month   value\n",
       "0            HONG KONG    2910  export    2020-04   82929\n",
       "1                JAPAN    3406  export    2004-01  979168\n",
       "2                CHILE    3209  export    2013-12       0\n",
       "3                 GUAM    2101  export    2011-06       0\n",
       "4    BRUNEI DARUSSALAM    2101  export    2006-12   22500\n",
       "..                 ...     ...     ...        ...     ...\n",
       "995        NEW ZEALAND    2515  export    2004-10       0\n",
       "996             POLAND    2004  import    2017-05    9882\n",
       "997            GERMANY    3210  export    2008-08       0\n",
       "998           MALDIVES    1902  export    2001-12    2072\n",
       "999          SWAZILAND    3924  import    2010-10       0\n",
       "\n",
       "[1000 rows x 5 columns]"
      ]
     },
     "execution_count": 27,
     "metadata": {},
     "output_type": "execute_result"
    }
   ],
   "source": [
    "pd.DataFrame(data)"
   ]
  },
  {
   "cell_type": "code",
   "execution_count": null,
   "metadata": {},
   "outputs": [],
   "source": []
  }
 ],
 "metadata": {
  "environment": {
   "name": "tf2-gpu.2-3.m69",
   "type": "gcloud",
   "uri": "gcr.io/deeplearning-platform-release/tf2-gpu.2-3:m69"
  },
  "kernelspec": {
   "display_name": "Python 3",
   "language": "python",
   "name": "python3"
  },
  "language_info": {
   "codemirror_mode": {
    "name": "ipython",
    "version": 3
   },
   "file_extension": ".py",
   "mimetype": "text/x-python",
   "name": "python",
   "nbconvert_exporter": "python",
   "pygments_lexer": "ipython3",
   "version": "3.7.6"
  }
 },
 "nbformat": 4,
 "nbformat_minor": 5
}
