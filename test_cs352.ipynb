{
 "cells": [
  {
   "cell_type": "code",
   "execution_count": 1,
   "metadata": {},
   "outputs": [],
   "source": [
    "import requests"
   ]
  },
  {
   "cell_type": "code",
   "execution_count": 48,
   "metadata": {},
   "outputs": [
    {
     "name": "stdout",
     "output_type": "stream",
     "text": [
      "200\n",
      "<RequestsCookieJar[<Cookie PHPSESSID=h2r42mck40v0oq4cuarj0q1ed5 for www.customs.go.th/>]>\n"
     ]
    }
   ],
   "source": [
    "s = requests.Session()\n",
    "r0 = s.get('http://www.customs.go.th/statistic_report.php?ini_content=statistics_report')\n",
    "print(r0.status_code)\n",
    "print(r0.cookies)"
   ]
  },
  {
   "cell_type": "code",
   "execution_count": 51,
   "metadata": {},
   "outputs": [],
   "source": [
    "r = s.post('http://www.customs.go.th/statistic_export_by_country.php',\n",
    "                  data={\n",
    "                        'top_menu': 'menu_homepage',\n",
    "                        'current_id': \"14232b324149\",\n",
    "                        'lang': \"th\",\n",
    "                        'ini_content': \"statistics_report\",\n",
    "                        'tab': \"by_country\",\n",
    "                        'imex_type': \"import\",\n",
    "                        'tariff_code': \"0102\",\n",
    "                        'month': '1',\n",
    "                        'year': '2020'\n",
    "                  })"
   ]
  },
  {
   "cell_type": "code",
   "execution_count": 52,
   "metadata": {},
   "outputs": [
    {
     "data": {
      "text/plain": [
       "<Response [403]>"
      ]
     },
     "execution_count": 52,
     "metadata": {},
     "output_type": "execute_result"
    }
   ],
   "source": [
    "r"
   ]
  },
  {
   "cell_type": "code",
   "execution_count": null,
   "metadata": {},
   "outputs": [],
   "source": []
  }
 ],
 "metadata": {
  "kernelspec": {
   "display_name": "Python 3",
   "language": "python",
   "name": "python3"
  },
  "language_info": {
   "codemirror_mode": {
    "name": "ipython",
    "version": 3
   },
   "file_extension": ".py",
   "mimetype": "text/x-python",
   "name": "python",
   "nbconvert_exporter": "python",
   "pygments_lexer": "ipython3",
   "version": "3.7.6"
  }
 },
 "nbformat": 4,
 "nbformat_minor": 2
}
